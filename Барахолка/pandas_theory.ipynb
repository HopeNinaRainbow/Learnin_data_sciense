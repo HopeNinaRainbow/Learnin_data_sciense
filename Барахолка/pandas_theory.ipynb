{
 "cells": [
  {
   "cell_type": "code",
   "execution_count": null,
   "metadata": {},
   "outputs": [],
   "source": [
    "#сылка на основные приемы и медоты в Пандас\n",
    "#https://www.kaggle.com/code/mariasavkina/my-notebook-for-hotels-csv"
   ]
  },
  {
   "cell_type": "code",
   "execution_count": 3,
   "metadata": {},
   "outputs": [
    {
     "ename": "NameError",
     "evalue": "name 'names' is not defined",
     "output_type": "error",
     "traceback": [
      "\u001b[1;31m---------------------------------------------------------------------------\u001b[0m",
      "\u001b[1;31mNameError\u001b[0m                                 Traceback (most recent call last)",
      "Cell \u001b[1;32mIn[3], line 8\u001b[0m\n\u001b[0;32m      3\u001b[0m     medications \u001b[39m=\u001b[39m pd\u001b[39m.\u001b[39mSeries(\n\u001b[0;32m      4\u001b[0m     names \u001b[39m=\u001b[39m [\u001b[39m'\u001b[39m\u001b[39mchlorhexidine\u001b[39m\u001b[39m'\u001b[39m, \u001b[39m'\u001b[39m\u001b[39mcyntomycin\u001b[39m\u001b[39m'\u001b[39m, \u001b[39m'\u001b[39m\u001b[39mafobazol\u001b[39m\u001b[39m'\u001b[39m],\n\u001b[0;32m      5\u001b[0m     counts \u001b[39m=\u001b[39m [\u001b[39m15\u001b[39m, \u001b[39m18\u001b[39m, \u001b[39m7\u001b[39m],\n\u001b[0;32m      6\u001b[0m     name \u001b[39m=\u001b[39m \u001b[39m'\u001b[39m\u001b[39mSeries medications\u001b[39m\u001b[39m'\u001b[39m)\n\u001b[0;32m      7\u001b[0m     \u001b[39mreturn\u001b[39;00m medications\n\u001b[1;32m----> 8\u001b[0m display(create_medications(names, counts))\n",
      "\u001b[1;31mNameError\u001b[0m: name 'names' is not defined"
     ]
    }
   ],
   "source": [
    "#Создание таблицы через def + вычисление доли количества эл-та относительно всего кол-ва в %\n",
    "import pandas as pd\n",
    "def create_medications(names, counts):\n",
    "    medications = pd.Series(index=names, data=counts)\n",
    "    return medications\n",
    "def get_percent(medications, name):\n",
    "    return(medications.loc[name]/sum(medications) * 100)"
   ]
  },
  {
   "cell_type": "code",
   "execution_count": 1,
   "metadata": {},
   "outputs": [
    {
     "name": "stdout",
     "output_type": "stream",
     "text": [
      "342\n"
     ]
    }
   ],
   "source": [
    "#Дан стаж работы строка + инт \"мес\" + инт \"год\" Надо отковырять и сделать всё в месяцах.\n",
    "def get_experience(arg):\n",
    "    \n",
    "    month_key_words = ['месяц', 'месяцев', 'месяца'] #Ищем ключевые слова около нужжных цифр\n",
    "    year_key_words = ['год', 'лет', 'года'] #Тоже самое с годами\n",
    "    args_splited = arg.split(' ') # Разделяем содержимое столбца по пробелам\n",
    "    month = 0\n",
    "    year = 0\n",
    "    #len(args_splited)=5, range(len(args_splited)) = 1, 2, 3, 4, 5  Если растянуть Лен рейнджем, то мы получим индекса каждого элемента\n",
    "    for i in range(len(args_splited)): # Ищем ключевое слово по индексу, значит перед ним искомая цифра\n",
    "        if args_splited[i] in month_key_words: #\n",
    "            month = args_splited[i-1] #\n",
    "        if args_splited[i] in year_key_words: #\n",
    "            year = args_splited[i-1] #\n",
    "    return int(year)*12 + int(month) #Умножаю года на 12 мес и плюсую месяца"
   ]
  }
 ],
 "metadata": {
  "kernelspec": {
   "display_name": "Python 3",
   "language": "python",
   "name": "python3"
  },
  "language_info": {
   "codemirror_mode": {
    "name": "ipython",
    "version": 3
   },
   "file_extension": ".py",
   "mimetype": "text/x-python",
   "name": "python",
   "nbconvert_exporter": "python",
   "pygments_lexer": "ipython3",
   "version": "3.9.10"
  },
  "orig_nbformat": 4,
  "vscode": {
   "interpreter": {
    "hash": "9a96fe5942e977a2be4cfcd3c9d3218b11fcfcbfea1cd79c93c14a448c083c08"
   }
  }
 },
 "nbformat": 4,
 "nbformat_minor": 2
}
