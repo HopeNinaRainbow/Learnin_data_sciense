{
 "cells": [
  {
   "cell_type": "code",
   "execution_count": null,
   "metadata": {},
   "outputs": [],
   "source": [
    "#Будет в new_list все, кроме яблока.\n",
    "fruits=[мандарин, апельсин, манго, банан, кокос, яблоко, пасатижи]\n",
    "new_list=[x for x in fruits if x!=\"Яблоко\"]"
   ]
  }
 ],
 "metadata": {
  "language_info": {
   "name": "python"
  },
  "orig_nbformat": 4
 },
 "nbformat": 4,
 "nbformat_minor": 2
}
