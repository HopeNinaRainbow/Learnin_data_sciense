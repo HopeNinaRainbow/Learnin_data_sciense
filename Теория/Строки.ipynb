{
 "cells": [
  {
   "attachments": {},
   "cell_type": "markdown",
   "metadata": {},
   "source": [
    "#### Числа в столбик без цикла с помощью \\n ####"
   ]
  },
  {
   "cell_type": "code",
   "execution_count": 1,
   "metadata": {},
   "outputs": [
    {
     "name": "stdout",
     "output_type": "stream",
     "text": [
      "1\n",
      "2\n",
      "3\n",
      "4\n",
      "5\n",
      "6\n",
      "7\n"
     ]
    }
   ],
   "source": [
    "numbers=input(\"Enter numbers separated by a space: \") # Вводим числа через пробел: 1 2 3 4 5 6 7.\n",
    "numbers_split=numbers.split() # По пробелу разбиваем числа в список и получаем [1, 2, 3, 4, 5, 6, 7]. \n",
    "numbers_lines=\"\\n\".join(numbers_split) # По символу \\n объединяем элементы списка в строку.\n",
    "print(numbers_lines) # Печатаем строку, и она при печати переводит курсо"
   ]
  },
  {
   "attachments": {},
   "cell_type": "markdown",
   "metadata": {},
   "source": [
    "#### Форматирование строки, когда из pecsent=45 нужно число с плвающей точкой: ####"
   ]
  },
  {
   "cell_type": "code",
   "execution_count": null,
   "metadata": {},
   "outputs": [],
   "source": [
    "print(\"Hello, {0}! Yesterday you fulfilled the norm by {1:.1f}%\".format(name, percent))\n",
    "print(f\"Hello, {name}! Yesterday you fulfilled the norm by {percent:.1f}%\")\n",
    "\n",
    "#Обрати внимание, тут расставлены индексы\n",
    "print(\"Hello, {0}! Today is {1}. Have a nice day!\".format(name, dayofweek))\n",
    "\n",
    "#Смотри, что со словарем можно ебануть:\n",
    "coord = {'latitude': '37.24N', 'longitude': '-115.81W'}\n",
    "'Coordinates: {latitude}, {longitude}'.format(**coord)\n",
    "'Coordinates: 37.24N, -115.81W'\n",
    "\n",
    "#Нихуя непонятно, но очень интересно!!!\n",
    "c = 3-5j\n",
    "('The complex number {0} is formed from the real part {0.real} '\n",
    " 'and the imaginary part {0.imag}.').format(c)\n",
    "'The complex number (3-5j) is formed from the real part 3.0 and the imaginary part -5.0.'\n",
    "class Point:\n",
    "    def __init__(self, x, y):\n",
    "        self.x, self.y = x, y\n",
    "    def __str__(self):\n",
    "        return 'Point({self.x}, {self.y})'.format(self=self)\n",
    "\n",
    "str(Point(4, 2))\n",
    "'Point(4, 2)'"
   ]
  },
  {
   "cell_type": "code",
   "execution_count": null,
   "metadata": {},
   "outputs": [],
   "source": [
    "##### Чтобы посмотреть какие методы доступны для объекта, ставим после него точку и появляется список:\n",
    "\"Строка\"."
   ]
  },
  {
   "attachments": {},
   "cell_type": "markdown",
   "metadata": {},
   "source": [
    "##### Метод .find() возвращает -1, если искомого символа нет в объекте и индекс символа, если есть. #####\n"
   ]
  },
  {
   "attachments": {},
   "cell_type": "markdown",
   "metadata": {},
   "source": [
    "##### Метод .endswith(',')/startswith('.')  возвращает True или False если строка начинается/заканчивается на искомый символ."
   ]
  },
  {
   "attachments": {},
   "cell_type": "markdown",
   "metadata": {},
   "source": [
    "##### Ecли ввести ? перед методом без скобок, (н-р: ?round), то выползет краткое описание метода #####"
   ]
  }
 ],
 "metadata": {
  "kernelspec": {
   "display_name": "Python 3",
   "language": "python",
   "name": "python3"
  },
  "language_info": {
   "codemirror_mode": {
    "name": "ipython",
    "version": 3
   },
   "file_extension": ".py",
   "mimetype": "text/x-python",
   "name": "python",
   "nbconvert_exporter": "python",
   "pygments_lexer": "ipython3",
   "version": "3.9.10"
  },
  "orig_nbformat": 4
 },
 "nbformat": 4,
 "nbformat_minor": 2
}
