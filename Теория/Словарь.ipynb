{
 "cells": [
  {
   "attachments": {},
   "cell_type": "markdown",
   "metadata": {},
   "source": [
    "### Методы словаря:\n",
    "\n",
    "#### .CLEAR() - очистить словарь безвозвратно,\n",
    "\n",
    "#### .KEYS() - получить только ключи. Возвращает структуру типа dict_keys,\n",
    "\n",
    "#### .VALUES() - получить значения,\n",
    "\n",
    "#### .GET() - получить значения по ключу, вернёт константу None если имя ключа не обнаружено.\n",
    "\n",
    "#### .UPDATE() - если хочется добавить сразу несколько пар ключ-значение. Также обновляет уже существующие значения по ключам, находящимся в словаре\n",
    "\n",
    "#### .POP() - Метод изменяет первоначальный словарь, а его результат (удалённый элемент) можно записать в переменную, чтобы в дальнейшем использовать в программе.\n",
    "\n",
    "#### .SETDEFAULT() - Он принимает два параметра: ключ и значение по умолчанию, если этого ключа нет в словаре. Этот метод создаст ключ за вас, если он действительно отсутствует, если ключ имеется, его значение останется неизменным,"
   ]
  },
  {
   "cell_type": "code",
   "execution_count": null,
   "metadata": {},
   "outputs": [],
   "source": [
    "friends = {\"Kolya\": 180, \"Marina\": 176, \"Misha\": 158, \"Dima\": 201, \"Yana\": 183, \"Nina\": 156}\n",
    "friends.get(\"Matvey\") \n",
    "# None\n",
    "best_friend_height = friends.pop(\"Misha\")\n",
    "friends.update({\"Stas\":171, \"Nastya\": 163})\n",
    "friends.update({\"Stas\":183}) #Обновление значения\n",
    "friends.get(\"Matvey\", \"I don't have a friend with such a name.\") #Вторая фраза после запятой вернется, если ключ не обнаружится.\n",
    "# {\"Kolya\": 180, \"Marina\": 176, \"Dima\": 201, \"Yana\": 183, \"Nina\": 156, \"Stas\":183, \"Nastya\": 163}\n",
    "best_friend_height \n",
    "# 158\n",
    "friends = {\"Kolya\": 180, \"Marina\": 176, \"Dima\": 201, \"Yana\": 183, \"Nina\": 156, \"Stas\":183, \"Nastya\": 163}\n",
    "friends.setdefault(\"Nastya\",100)\n",
    "friends[\"Nastya\"] \n",
    "friends.setdefault(\"Alena\", 170)\n",
    "friends[\"Alena\"] \n",
    "# 170\n",
    "\n",
    "friends.keys() \n",
    "# dict_keys([\"Kolya\", \"Marina\", \"Dima\", \"Yana\", \"Nina\", \"Stas\", \"Nastya\", \"Alena\"])\n",
    "\n"
   ]
  },
  {
   "cell_type": "code",
   "execution_count": null,
   "metadata": {},
   "outputs": [],
   "source": [
    "# Нельзя «отсортировать» словарь, поскольку словари не поддерживают упорядочение, \n",
    "# но можно вернуть отсортированный список кортежей с ключами и значениями из словаря:\n",
    "\n",
    "d = {'c':3, 'd':4, 'b':2, 'a':1}\n",
    "\n",
    "sorted(d.items())\n",
    "[('a', 1), ('b', 2), ('c', 3), ('d', 4)]"
   ]
  },
  {
   "cell_type": "code",
   "execution_count": null,
   "metadata": {},
   "outputs": [],
   "source": [
    "#Как получить список ключей из словаря?\n",
    "#Это можно сделать через передачу словаря в конструктор list():\n",
    "\n",
    "d = {'id':7, 'name':'Shiba', 'color':'brown', 'speed':'very slow'}\n",
    "\n",
    "list(d)\n",
    "['id', 'name', 'color', 'speed']"
   ]
  }
 ],
 "metadata": {
  "kernelspec": {
   "display_name": "Python 3",
   "language": "python",
   "name": "python3"
  },
  "language_info": {
   "name": "python",
   "version": "3.9.10"
  },
  "orig_nbformat": 4
 },
 "nbformat": 4,
 "nbformat_minor": 2
}
