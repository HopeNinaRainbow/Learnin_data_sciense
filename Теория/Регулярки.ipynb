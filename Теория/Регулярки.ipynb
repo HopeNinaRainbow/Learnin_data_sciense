{
 "cells": [
  {
   "cell_type": "code",
   "execution_count": null,
   "metadata": {},
   "outputs": [],
   "source": [
    "# ознакомиться с регулярными выражениями\n",
    "# https://tproger.ru/translations/regular-expression-python/"
   ]
  },
  {
   "cell_type": "code",
   "execution_count": null,
   "metadata": {},
   "outputs": [],
   "source": [
    "# Функция findall() модуля re в Python.\n",
    "# https://docs-python.ru/standart-library/modul-re-python/funktsija-findall-modulja-re/"
   ]
  }
 ],
 "metadata": {
  "language_info": {
   "name": "python"
  },
  "orig_nbformat": 4
 },
 "nbformat": 4,
 "nbformat_minor": 2
}
