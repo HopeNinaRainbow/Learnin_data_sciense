{
 "cells": [
  {
   "cell_type": "code",
   "execution_count": null,
   "metadata": {},
   "outputs": [],
   "source": [
    "#сылка на основные приемы и медоты в Пандас\n",
    "#https://www.kaggle.com/code/mariasavkina/my-notebook-for-hotels-csv"
   ]
  },
  {
   "cell_type": "code",
   "execution_count": null,
   "metadata": {},
   "outputs": [],
   "source": [
    "# file:///C:/Users/katah/Downloads/Pandas_info%20(2).pdf\n",
    "# Шпаргалища по Пандас\n",
    "\n",
    "# file:///C:/Users/katah/Downloads/%D0%90%D0%B1%D0%B4%D1%80%D0%B0%D1%85%D0%BC%D0%B0%D0%BD%D0%BE%D0%B2%20%D0%9C.%D0%98.%20-%20Pandas.%20%D0%A0%D0%B0%D0%B1%D0%BE%D1%82%D0%B0%20%D1%81%20%D0%B4%D0%B0%D0%BD%D0%BD%D1%8B%D0%BC%D0%B8%20-%202020%20(1).pdf\n",
    "# Книга по Пандас"
   ]
  },
  {
   "cell_type": "code",
   "execution_count": 3,
   "metadata": {},
   "outputs": [
    {
     "ename": "NameError",
     "evalue": "name 'names' is not defined",
     "output_type": "error",
     "traceback": [
      "\u001b[1;31m---------------------------------------------------------------------------\u001b[0m",
      "\u001b[1;31mNameError\u001b[0m                                 Traceback (most recent call last)",
      "Cell \u001b[1;32mIn[3], line 8\u001b[0m\n\u001b[0;32m      3\u001b[0m     medications \u001b[39m=\u001b[39m pd\u001b[39m.\u001b[39mSeries(\n\u001b[0;32m      4\u001b[0m     names \u001b[39m=\u001b[39m [\u001b[39m'\u001b[39m\u001b[39mchlorhexidine\u001b[39m\u001b[39m'\u001b[39m, \u001b[39m'\u001b[39m\u001b[39mcyntomycin\u001b[39m\u001b[39m'\u001b[39m, \u001b[39m'\u001b[39m\u001b[39mafobazol\u001b[39m\u001b[39m'\u001b[39m],\n\u001b[0;32m      5\u001b[0m     counts \u001b[39m=\u001b[39m [\u001b[39m15\u001b[39m, \u001b[39m18\u001b[39m, \u001b[39m7\u001b[39m],\n\u001b[0;32m      6\u001b[0m     name \u001b[39m=\u001b[39m \u001b[39m'\u001b[39m\u001b[39mSeries medications\u001b[39m\u001b[39m'\u001b[39m)\n\u001b[0;32m      7\u001b[0m     \u001b[39mreturn\u001b[39;00m medications\n\u001b[1;32m----> 8\u001b[0m display(create_medications(names, counts))\n",
      "\u001b[1;31mNameError\u001b[0m: name 'names' is not defined"
     ]
    }
   ],
   "source": [
    "#Создание таблицы через def + вычисление доли количества эл-та относительно всего кол-ва в %\n",
    "import pandas as pd\n",
    "def create_medications(names, counts):\n",
    "    medications = pd.Series(index=names, data=counts)\n",
    "    return medications\n",
    "def get_percent(medications, name):\n",
    "    return(medications.loc[name]/sum(medications) * 100)"
   ]
  },
  {
   "cell_type": "code",
   "execution_count": 1,
   "metadata": {},
   "outputs": [
    {
     "name": "stdout",
     "output_type": "stream",
     "text": [
      "342\n"
     ]
    }
   ],
   "source": [
    "#Дан стаж работы строка + инт \"мес\" + инт \"год\" Надо отковырять и сделать всё в месяцах.\n",
    "def get_experience(arg):\n",
    "    \n",
    "    month_key_words = ['месяц', 'месяцев', 'месяца'] #Ищем ключевые слова около нужжных цифр\n",
    "    year_key_words = ['год', 'лет', 'года'] #Тоже самое с годами\n",
    "    args_splited = arg.split(' ') # Разделяем содержимое столбца по пробелам\n",
    "    month = 0\n",
    "    year = 0\n",
    "    #len(args_splited)=5, range(len(args_splited)) = 1, 2, 3, 4, 5  Если растянуть Лен рейнджем, то мы получим индекса каждого элемента\n",
    "    for i in range(len(args_splited)): # Ищем ключевое слово по индексу, значит перед ним искомая цифра\n",
    "        if args_splited[i] in month_key_words: #\n",
    "            month = args_splited[i-1] #\n",
    "        if args_splited[i] in year_key_words: #\n",
    "            year = args_splited[i-1] #\n",
    "    return int(year)*12 + int(month) #Умножаю года на 12 мес и плюсую месяца"
   ]
  },
  {
   "cell_type": "code",
   "execution_count": null,
   "metadata": {},
   "outputs": [],
   "source": [
    "# Вам необходимо написать функцию concat_user_files(path), параметром которой является path — путь до директории. \n",
    "# Функция должна объединить информацию из предоставленных вам файлов в один DataFrame и вернуть его.\n",
    "\n",
    "# Список названий всех файлов, находящихся в директории, вы можете получить с помощью функции os.listdir(path) из модуля os. \n",
    "# Отсортируйте полученный список, прежде чем производить объединение файлов.\n",
    "\n",
    "#Обратите внимание, что метод os.listdir() возвращает только названия файлов в указанной директории, \n",
    "# а при чтении файла необходимо указывать полный путь до него\n",
    "\n",
    "import pandas as pd\n",
    "import os # Табличка с названиями файлов\n",
    "def concat_user_files(path)\n",
    "    data = pd.DataFrame()\n",
    "    file_names = os.listdir(path) # Список названий файлов\n",
    "    file_names.sort()\n",
    "    for file in file_names:\n",
    "        tmp_data = pd.read_csv(path + '/' + file) # Путь + слеш + название файла\n",
    "        data = pd.concat([data, tmp_data], axis=0, ignore_index=True) #Соединяем по строкам, содавая новое индексирование\n",
    "    data = data.drop_duplicates() # Удаляем дубликаты\n",
    "    return data"
   ]
  },
  {
   "cell_type": "code",
   "execution_count": 1,
   "metadata": {},
   "outputs": [
    {
     "name": "stdout",
     "output_type": "stream",
     "text": [
      "19729490\n"
     ]
    }
   ],
   "source": [
    "import pandas as pd\n",
    "\n",
    "# Дано:\n",
    "\n",
    "items_df = pd.DataFrame({\n",
    "    'item_id': [417283, 849734, 132223, 573943, 19475, 3294095, 382043, 302948, 100132, 312394],\n",
    "    'vendor': ['Samsung', 'LG', 'Apple', 'Apple', 'LG', 'Apple', 'Samsung', 'Samsung', 'LG', 'ZTE'],\n",
    "    'stock_count': [54, 33, 122, 18, 102, 43, 77, 143, 60, 19]\n",
    "})\n",
    "\n",
    "purchase_df = pd.DataFrame({\n",
    "    'purchase_id': [101, 101, 101, 112, 121, 145, 145, 145, 145, 221],\n",
    "    'item_id': [417283, 849734, 132223, 573943, 19475, 3294095, 382043, 302948, 103845, 100132],\n",
    "    'price': [13900, 5330, 38200, 49990, 9890, 33000, 67500, 34500, 89900, 11400]\n",
    "})\n",
    "\n",
    "# Задание 1: Сформируйте DataFrame merged, так чтобы после объединения purchase_df и items_df остались модели, \n",
    "# которые учтены на складе и имели продажи\n",
    "\n",
    "merged = items_df.merge(\n",
    "    purchase_df,\n",
    "    on='item_id'\n",
    ")\n",
    "\n",
    "# Задание 2: На основе таблицы merged найдите суммарную выручку, которую можно было бы получить от продажи всех товаров,\n",
    "# имеющихся на складе. Результат занесите в переменную income\n",
    "\n",
    "income = sum(merged['stock_count'] *  merged['price'])\n",
    "print(income)"
   ]
  }
 ],
 "metadata": {
  "kernelspec": {
   "display_name": "Python 3",
   "language": "python",
   "name": "python3"
  },
  "language_info": {
   "codemirror_mode": {
    "name": "ipython",
    "version": 3
   },
   "file_extension": ".py",
   "mimetype": "text/x-python",
   "name": "python",
   "nbconvert_exporter": "python",
   "pygments_lexer": "ipython3",
   "version": "3.9.10"
  },
  "orig_nbformat": 4,
  "vscode": {
   "interpreter": {
    "hash": "9a96fe5942e977a2be4cfcd3c9d3218b11fcfcbfea1cd79c93c14a448c083c08"
   }
  }
 },
 "nbformat": 4,
 "nbformat_minor": 2
}
