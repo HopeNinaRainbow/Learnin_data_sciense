{
 "cells": [
  {
   "attachments": {},
   "cell_type": "markdown",
   "metadata": {},
   "source": [
    "# Домашняя работа 3. #"
   ]
  },
  {
   "attachments": {},
   "cell_type": "markdown",
   "metadata": {},
   "source": [
    "### Задача №1: ###"
   ]
  },
  {
   "cell_type": "code",
   "execution_count": 10,
   "metadata": {},
   "outputs": [
    {
     "name": "stdout",
     "output_type": "stream",
     "text": [
      "{'Agree': 'agre', 'Neither agree nor disagree': 'neit_agre_nor_disa', 'Dont know': 'dont_know', 'Disagree': 'disa', 'No answer': 'no_answ', 'Agree strongly': 'agre_stro', 'Refusal': 'refu', 'Disagree strongly': 'disa_stro'}\n"
     ]
    }
   ],
   "source": [
    "enter = input('Enter your text: ')\n",
    "enter2 = enter.replace(\"'\", '').replace('\"','').replace('[', '').replace(']', '') #Избавляемся от ненужных символов\n",
    "enter3 = enter2.lower() #Приводим к нижнему регистру\n",
    "for_value = enter3.split(sep=',') #Разделяем строку по раделителю \",\"\n",
    "for_keys = enter2.split(sep=',') #Делаем то же самое, только со строкой не приведенной к нижнему регистру\n",
    "\n",
    "list_of_value = []\n",
    "for object in for_value:          #Создаю цикл для \"очистки значений\" от первого пробела\n",
    "    clean_object = object.strip()\n",
    "    list_of_value.append(clean_object)\n",
    "    \n",
    "    \n",
    "result = []\n",
    "for word in list_of_value:\n",
    "  subwords = word.split() #Разделяю элементы на отдельные значения (sep=' ')\n",
    "  subres = []\n",
    "  for subword in subwords: \n",
    "    subres.append(subword[0:4]) #В этих значениях ограничиваю длину до 4-х символов\n",
    "  word = '_'.join(subres) #Соединяю получившееся через \"_\"\n",
    "  result.append(word)\n",
    "        \n",
    "    \n",
    "list_of_keys = []\n",
    "for key in for_keys: #Создаю отдельный цикл, для будущих ключей, убирая первый пробел\n",
    "    clean_key = key.strip()\n",
    "    list_of_keys.append(clean_key)\n",
    "    \n",
    "\n",
    "experimental_dict = dict(zip(list_of_keys, result)) \n",
    "#Так как ключами могут быть только уникальные значения, имеющиеся ранее повторения нам не сташны.\n",
    "print(experimental_dict)\n",
    "\n",
    "\n",
    "    "
   ]
  },
  {
   "attachments": {},
   "cell_type": "markdown",
   "metadata": {},
   "source": [
    "### Задача №2: ###"
   ]
  },
  {
   "cell_type": "code",
   "execution_count": 3,
   "metadata": {},
   "outputs": [
    {
     "name": "stdout",
     "output_type": "stream",
     "text": [
      "{'Согласен': 'Sogl', 'И да': 'I_da', 'и нет': 'i_net', 'Не знаю': 'Ne_znaj', 'Не согласен': 'Ne_sogl', 'Нет ответа': 'Net_otve', 'Полностью согласен': 'Poln_sogl', 'Отказ от ответа': 'Otka_ot_otve', 'Полностью не согласен': 'Poln_ne_sogl'}\n"
     ]
    }
   ],
   "source": [
    "from transliterate import translit\n",
    "rus_enter = input('Enter your text: ')\n",
    "rus_enter2 = rus_enter.replace(\"'\", '').replace('\"','').replace('[', '').replace(']', '') \n",
    "en_value = translit(rus_enter2, language_code='ru', reversed=True) #Заменяем кириллицу на латиницу.\n",
    "for_value = en_value.split(sep=',') \n",
    "for_keys = rus_enter2.split(sep=',') \n",
    "\n",
    "list_of_value = []\n",
    "for object in for_value:          #Создаю цикл для \"очистки значений\" от первого пробела\n",
    "    clean_object = object.strip()\n",
    "    list_of_value.append(clean_object)\n",
    "    \n",
    "    \n",
    "result = []\n",
    "for word in list_of_value:\n",
    "  subwords = word.split() #Разделяю элементы на отдельные значения (sep=' ')\n",
    "  subres = []\n",
    "  for subword in subwords: \n",
    "    subres.append(subword[0:4]) #В этих значениях ограничиваю длину до 4-х символов\n",
    "  word = '_'.join(subres) #Соединяю получившееся через \"_\"\n",
    "  result.append(word)\n",
    "    \n",
    "list_of_keys = []\n",
    "for key in for_keys: \n",
    "    clean_key = key.strip()\n",
    "    list_of_keys.append(clean_key)\n",
    "\n",
    "experimental_dict = dict(zip(list_of_keys, result))   \n",
    "print(experimental_dict)\n"
   ]
  },
  {
   "attachments": {},
   "cell_type": "markdown",
   "metadata": {},
   "source": [
    "### Задача №3: ###"
   ]
  },
  {
   "cell_type": "code",
   "execution_count": 1,
   "metadata": {},
   "outputs": [
    {
     "name": "stdout",
     "output_type": "stream",
     "text": [
      "CASE WHEN gincdif = Agree THEN 1 ELSE 0 END AS agre\n",
      "CASE WHEN gincdif = Neither agree nor disagree THEN 1 ELSE 0 END AS neit_agre_nor_disa\n",
      "CASE WHEN gincdif = Dont know THEN 1 ELSE 0 END AS dont_know\n",
      "CASE WHEN gincdif = Disagree THEN 1 ELSE 0 END AS disa\n",
      "CASE WHEN gincdif = No answer THEN 1 ELSE 0 END AS no_answ\n",
      "CASE WHEN gincdif = Agree strongly THEN 1 ELSE 0 END AS agre_stro\n",
      "CASE WHEN gincdif = Refusal THEN 1 ELSE 0 END AS refu\n",
      "CASE WHEN gincdif = Disagree strongly THEN 1 ELSE 0 END AS disa_stro\n"
     ]
    }
   ],
   "source": [
    "#третья задача\n",
    "\n",
    "un_enter = input('Enter your text: ')\n",
    "un_enter2 = un_enter.replace(\"'\", '').replace('\"','').replace('[', '').replace(']', '').replace('{', ''). replace('}', '').replace(':', ',') #Избавляемся от ненужных символов\n",
    "un_enter3 = un_enter2.lower() #Приводим к нижнему регистру\n",
    "\n",
    "for_value3 = un_enter3.split(sep=',') #Разделяем строку по раделителю \",\"\n",
    "for_keys3 = un_enter2.split(sep=',')\n",
    "\n",
    "list_of_value3 = []\n",
    "for object3 in for_value3:          #Создаю цикл для \"очистки значений\" от первого пробела\n",
    "    clean_object3 = object3.strip()\n",
    "    list_of_value3.append(clean_object3)\n",
    "    \n",
    "for elem in list_of_value3:\n",
    "    first_liter = elem[0] #Обращаемся к символу под индексом 0.   \n",
    "    \n",
    "min_ord = 97\n",
    "max_ord= 122\n",
    "\n",
    "from transliterate import translit\n",
    "for simbol in first_liter:\n",
    "    if ord(first_liter) >= min_ord and ord(first_liter) <=max_ord:\n",
    "        result3 = []\n",
    "        for word3 in list_of_value3:\n",
    "            subwords3 = word3.split() #Разделяю элементы на отдельные значения (sep=' ')\n",
    "            subres3 = []\n",
    "            for subword3 in subwords3: \n",
    "                subres3.append(subword3[0:4]) #В этих значениях ограничиваю длину до 4-х символов\n",
    "            word3 = '_'.join(subres3) #Соединяю получившееся через \"_\"\n",
    "            result3.append(word3) \n",
    "            \n",
    "        list_of_keys3 = []\n",
    "        for key3 in for_keys3:          #Создаю цикл для \"очистки значений\" от первого пробела\n",
    "            clean_key3 = key3.strip()\n",
    "            list_of_keys3.append(clean_key3)   \n",
    "\n",
    "        general_key = list_of_keys3[0]\n",
    "        first_value = list_of_keys3[1::]   \n",
    "        second_value = result3[1::]\n",
    "\n",
    "        final_dict = dict(zip(first_value, second_value))\n",
    "        \n",
    "        for key, value in final_dict.items():\n",
    "            print (f'CASE WHEN {general_key} = {key} THEN 1 ELSE 0 END AS {value}')\n",
    "            \n",
    "               \n",
    "    else:\n",
    "        result_option = []\n",
    "        for word4 in list_of_value3:\n",
    "            subwords4 = word4.split() #Разделяю элементы на отдельные значения (sep=' ')\n",
    "            subres4 = []\n",
    "            for subword4 in subwords4: \n",
    "                subres4.append(subword4[0:4]) #В этих значениях ограничиваю длину до 4-х символов\n",
    "            word4 = '_'.join(subres4) #Соединяю получившееся через \"_\"\n",
    "            result_option.append(word4)\n",
    "            \n",
    "            x=[]\n",
    "            for elem2 in result_option:    \n",
    "                op_value = translit(elem2, language_code='ru', reversed=True)\n",
    "                x.append(op_value)\n",
    "        \n",
    "        option_keys = []\n",
    "        for op_key in for_keys3: \n",
    "            clean_op = op_key.strip()\n",
    "        option_keys.append(clean_op)\n",
    "        \n",
    "        general_option = for_keys3[0]\n",
    "        first_option = for_keys3[1::]   \n",
    "        second_option = x[1::]\n",
    "        \n",
    "        option_dict = dict(zip(first_option, second_option))   \n",
    "        \n",
    "        for op_key, op_value in option_dict.items():\n",
    "            print (f'CASE WHEN {general_option} = {op_key} THEN 0 ELSE 1 END AS {op_value}')"
   ]
  }
 ],
 "metadata": {
  "kernelspec": {
   "display_name": "Python 3",
   "language": "python",
   "name": "python3"
  },
  "language_info": {
   "codemirror_mode": {
    "name": "ipython",
    "version": 3
   },
   "file_extension": ".py",
   "mimetype": "text/x-python",
   "name": "python",
   "nbconvert_exporter": "python",
   "pygments_lexer": "ipython3",
   "version": "3.9.10"
  },
  "orig_nbformat": 4
 },
 "nbformat": 4,
 "nbformat_minor": 2
}
