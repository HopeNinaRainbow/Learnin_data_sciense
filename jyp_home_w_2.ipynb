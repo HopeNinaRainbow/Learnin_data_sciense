{
 "cells": [
  {
   "cell_type": "code",
   "execution_count": 20,
   "metadata": {},
   "outputs": [
    {
     "name": "stdout",
     "output_type": "stream",
     "text": [
      "['1 2 ghj']\n",
      "['3 4 bnm']\n",
      "['3 4 bnm']\n",
      "['TRANSMISSION STOPPED']\n"
     ]
    }
   ],
   "source": [
    "while True:\n",
    "    data_in_column=input(\"Введите данные последовательно: для первой колонки, затем для второй и тд. Для разделения значений колонок используйте ранее выбранный вами разделитель: \")\n",
    "    data_list=[]\n",
    "    data_list.append(data_in_column)    \n",
    "    if data_in_column == 'TRANSMISSION STOPPED':\n",
    "        break #брык!             \n",
    "    print(data_list)\n"
   ]
  },
  {
   "cell_type": "code",
   "execution_count": 24,
   "metadata": {},
   "outputs": [],
   "source": [
    "while True:\n",
    "    sequence =input(\"Выберите разделитель (запятая, точка-с-запятой или пробел) и введите в поле для ответа: \")\n",
    "    if ' ' in sequence:\n",
    "        delimiter= ' '\n",
    "    elif ',' in sequence:\n",
    "        delimiter= ','\n",
    "    elif ';' in sequence:\n",
    "        delimiter = ';'\n",
    "        break\n",
    "    else:\n",
    "        print('Разделителем может быть только...бла-бла')\n",
    "print(delimiter) #Эта строка только для того, чтобы проверить, что в в переменной реально храниться разделитель.\n",
    "        \n",
    "    \n",
    "   "
   ]
  },
  {
   "cell_type": "code",
   "execution_count": null,
   "metadata": {},
   "outputs": [],
   "source": [
    "count_columns = len(name_columns)\n",
    "count_data_in_columns=len(data_list)\n",
    "while True:\n",
    "    if count_columns!=count_data_in_columns:\n",
    "        print(\"Количество вводимых параметров не соответствует числу колонок\")\n",
    "    else:\n",
    "        break\n"
   ]
  },
  {
   "cell_type": "code",
   "execution_count": 23,
   "metadata": {},
   "outputs": [],
   "source": [
    "dict_result={}\n",
    "for name in name_columns:\n",
    "    dict_result[name]=list(zip(*data_list))\n"
   ]
  },
  {
   "cell_type": "code",
   "execution_count": 3,
   "metadata": {},
   "outputs": [
    {
     "name": "stdout",
     "output_type": "stream",
     "text": [
      "['4', '5', '6']\n"
     ]
    }
   ],
   "source": [
    "data_list=[]\n",
    "while True:\n",
    "    data_in_column=input(\"Введите данные: для первой колонки, затем для второй и тд. Используйте ранее выбранный вами разделитель: \")\n",
    "    data_list.append(data_in_column)    \n",
    "    if data_in_column == 'TRANSMISSION STOPPED':\n",
    "        break #брык!\n",
    "data_list.pop()  \n",
    "print(data_list)"
   ]
  },
  {
   "cell_type": "code",
   "execution_count": 7,
   "metadata": {},
   "outputs": [
    {
     "name": "stdout",
     "output_type": "stream",
     "text": [
      "['f\n"
     ]
    }
   ],
   "source": [
    "while True:\n",
    "    columns=input(\"Введите названия колонок для вашей таблицы, разделяя слова выбранным ранее разделителем: \")\n",
    "    name_columns=[]\n",
    "    if ';' in columns:\n",
    "        name_columns.append(columns)\n",
    "        break\n",
    "    else:\n",
    "        print(\"Используйте разделитель указанный вами ранее\")\n",
    "red_name_columns=str(name_columns).split(';')\n",
    "colnames = red_name_columns[0]\n",
    "print(red_name_columns[0]) #Проверка работы кода"
   ]
  },
  {
   "cell_type": "code",
   "execution_count": 2,
   "metadata": {},
   "outputs": [
    {
     "name": "stdout",
     "output_type": "stream",
     "text": [
      "['g', ' ', 'g', ' ', 'j']\n"
     ]
    }
   ],
   "source": [
    "enter_type=input('через разделитель введите тип данных для каждой колонки: числовые данные-float, int; текст-str; булевые-bool: ')\n",
    "data_type=[] \n",
    "for elem in enter_type:\n",
    "    data_type.append(str(elem))\n",
    "print(data_type)\n",
    "    "
   ]
  },
  {
   "cell_type": "code",
   "execution_count": 9,
   "metadata": {},
   "outputs": [
    {
     "name": "stdout",
     "output_type": "stream",
     "text": [
      "Используйте разделитель указанный вами ранее\n",
      "Используйте разделитель указанный вами ранее\n"
     ]
    }
   ],
   "source": [
    "while True:\n",
    "    columns=input(\"Введите названия колонок для вашей таблицы, разделяя слова выбранным ранее разделителем: \")\n",
    "    name_columns=[]\n",
    "    if delimiter in columns:\n",
    "        name_columns.append(columns)\n",
    "        break\n",
    "    else:\n",
    "        print(\"Используйте разделитель указанный вами ранее\")\n",
    "        \n"
   ]
  }
 ],
 "metadata": {
  "kernelspec": {
   "display_name": "Python 3",
   "language": "python",
   "name": "python3"
  },
  "language_info": {
   "codemirror_mode": {
    "name": "ipython",
    "version": 3
   },
   "file_extension": ".py",
   "mimetype": "text/x-python",
   "name": "python",
   "nbconvert_exporter": "python",
   "pygments_lexer": "ipython3",
   "version": "3.9.10"
  },
  "orig_nbformat": 4,
  "vscode": {
   "interpreter": {
    "hash": "9a96fe5942e977a2be4cfcd3c9d3218b11fcfcbfea1cd79c93c14a448c083c08"
   }
  }
 },
 "nbformat": 4,
 "nbformat_minor": 2
}
