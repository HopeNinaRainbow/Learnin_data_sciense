{
 "cells": [
  {
   "cell_type": "code",
   "execution_count": 7,
   "metadata": {},
   "outputs": [
    {
     "name": "stdout",
     "output_type": "stream",
     "text": [
      "['1 2 ghj', '3 4 jkl']\n"
     ]
    }
   ],
   "source": [
    "data_list=[]\n",
    "while True:\n",
    "    data_in_column=input(\"Введите данные последовательно: для первой колонки, затем для второй и тд. Для разделения значений колонок используйте ранее выбранный вами разделитель: \")\n",
    "    data_list.append(data_in_column)\n",
    "    if data_in_column == 'TRANSMISSION STOPPED':\n",
    "        break\n",
    "data_list.pop()   \n",
    "print(data_list)"
   ]
  },
  {
   "cell_type": "code",
   "execution_count": 2,
   "metadata": {},
   "outputs": [
    {
     "name": "stdout",
     "output_type": "stream",
     "text": [
      "Разделителем может быть только...\n",
      "Разделителем может быть только...\n"
     ]
    }
   ],
   "source": [
    "sequence =input(\"Выберите разделитель (запятая, точка-с-запятой или пробел) и введите в поле для ответа: \")\n",
    "while True: \n",
    "    if ' ' in sequence:\n",
    "        delimiter= ' '\n",
    "    elif ',' in sequence:\n",
    "        delimiter= ','\n",
    "    elif ';' in sequence:\n",
    "        delimiter = ';'\n",
    "        break\n",
    "    else:\n",
    "        print('Разделителем может быть только...')"
   ]
  },
  {
   "cell_type": "code",
   "execution_count": null,
   "metadata": {},
   "outputs": [],
   "source": [
    "count_columns = len(name_columns)\n",
    "count_data_in_columns=len(data_list)\n",
    "if count_columns==count_data_in_columns:\n",
    "    #тут будет подставлена функция, которая будет выполнять некоторое д-е если True\n",
    "else:\n",
    "    print(\"Количество вводимых параметров не соответствует числу колонок\")\n"
   ]
  },
  {
   "cell_type": "code",
   "execution_count": null,
   "metadata": {},
   "outputs": [],
   "source": [
    "#Этот код работает, но обрати внимание, что стоит range\n",
    "count_data_in_columns=len(range(2, 4))\n",
    "while True:\n",
    "    сount_columns = len(input())\n",
    "    if сount_columns != count_data_in_columns:\n",
    "        print(\"Количество вводимых параметров не соответствует числу колонок\")\n",
    "    else:\n",
    "        break"
   ]
  },
  {
   "cell_type": "code",
   "execution_count": 2,
   "metadata": {},
   "outputs": [
    {
     "name": "stdout",
     "output_type": "stream",
     "text": [
      "['g', ' ', 'g', ' ', 'j']\n"
     ]
    }
   ],
   "source": [
    "enter_type=input('через разделитель введите тип данных для каждой колонки: числовые данные-float, int; текст-str; булевые-bool: ')\n",
    "data_type=[] \n",
    "for elem in enter_type:\n",
    "    data_type.append(str(elem))\n",
    "print(data_type)\n",
    "    "
   ]
  },
  {
   "cell_type": "code",
   "execution_count": null,
   "metadata": {},
   "outputs": [],
   "source": [
    "columns=input(\"Введите названия колонок для вашей таблицы, разделяя слова выбранным ранее разделителем: \")\n",
    "name_columns=[]\n",
    "for name in columns:\n",
    "    name_columns.append(name)\n"
   ]
  }
 ],
 "metadata": {
  "kernelspec": {
   "display_name": "Python 3",
   "language": "python",
   "name": "python3"
  },
  "language_info": {
   "codemirror_mode": {
    "name": "ipython",
    "version": 3
   },
   "file_extension": ".py",
   "mimetype": "text/x-python",
   "name": "python",
   "nbconvert_exporter": "python",
   "pygments_lexer": "ipython3",
   "version": "3.9.10"
  },
  "orig_nbformat": 4,
  "vscode": {
   "interpreter": {
    "hash": "9a96fe5942e977a2be4cfcd3c9d3218b11fcfcbfea1cd79c93c14a448c083c08"
   }
  }
 },
 "nbformat": 4,
 "nbformat_minor": 2
}
