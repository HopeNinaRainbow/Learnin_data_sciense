{
 "cells": [
  {
   "attachments": {},
   "cell_type": "markdown",
   "metadata": {},
   "source": [
    "#### Это пиздец, как важно!!! Вот так можно скачать файл на комп и открыть в вскоде!\n",
    "##### Если принтануть send_request, появится путь, куда скачан файл.\n",
    "##### ufo_df = pd.read_csv(путь, sep=',') такая конструкция позволяет читать скачаный файл с помошью таблицы (Пандас)"
   ]
  },
  {
   "cell_type": "code",
   "execution_count": 3,
   "metadata": {},
   "outputs": [
    {
     "data": {
      "text/html": [
       "<div>\n",
       "<style scoped>\n",
       "    .dataframe tbody tr th:only-of-type {\n",
       "        vertical-align: middle;\n",
       "    }\n",
       "\n",
       "    .dataframe tbody tr th {\n",
       "        vertical-align: top;\n",
       "    }\n",
       "\n",
       "    .dataframe thead th {\n",
       "        text-align: right;\n",
       "    }\n",
       "</style>\n",
       "<table border=\"1\" class=\"dataframe\">\n",
       "  <thead>\n",
       "    <tr style=\"text-align: right;\">\n",
       "      <th></th>\n",
       "      <th>City</th>\n",
       "      <th>Colors Reported</th>\n",
       "      <th>Shape Reported</th>\n",
       "      <th>State</th>\n",
       "      <th>Time</th>\n",
       "    </tr>\n",
       "  </thead>\n",
       "  <tbody>\n",
       "    <tr>\n",
       "      <th>18236</th>\n",
       "      <td>Grant Park</td>\n",
       "      <td>NaN</td>\n",
       "      <td>TRIANGLE</td>\n",
       "      <td>IL</td>\n",
       "      <td>12/31/2000 23:00</td>\n",
       "    </tr>\n",
       "    <tr>\n",
       "      <th>18237</th>\n",
       "      <td>Spirit Lake</td>\n",
       "      <td>NaN</td>\n",
       "      <td>DISK</td>\n",
       "      <td>IA</td>\n",
       "      <td>12/31/2000 23:00</td>\n",
       "    </tr>\n",
       "    <tr>\n",
       "      <th>18238</th>\n",
       "      <td>Eagle River</td>\n",
       "      <td>NaN</td>\n",
       "      <td>NaN</td>\n",
       "      <td>WI</td>\n",
       "      <td>12/31/2000 23:45</td>\n",
       "    </tr>\n",
       "    <tr>\n",
       "      <th>18239</th>\n",
       "      <td>Eagle River</td>\n",
       "      <td>RED</td>\n",
       "      <td>LIGHT</td>\n",
       "      <td>WI</td>\n",
       "      <td>12/31/2000 23:45</td>\n",
       "    </tr>\n",
       "    <tr>\n",
       "      <th>18240</th>\n",
       "      <td>Ybor</td>\n",
       "      <td>NaN</td>\n",
       "      <td>OVAL</td>\n",
       "      <td>FL</td>\n",
       "      <td>12/31/2000 23:59</td>\n",
       "    </tr>\n",
       "  </tbody>\n",
       "</table>\n",
       "</div>"
      ],
      "text/plain": [
       "              City Colors Reported Shape Reported State              Time\n",
       "18236   Grant Park             NaN       TRIANGLE    IL  12/31/2000 23:00\n",
       "18237  Spirit Lake             NaN           DISK    IA  12/31/2000 23:00\n",
       "18238  Eagle River             NaN            NaN    WI  12/31/2000 23:45\n",
       "18239  Eagle River             RED          LIGHT    WI  12/31/2000 23:45\n",
       "18240         Ybor             NaN           OVAL    FL  12/31/2000 23:59"
      ]
     },
     "metadata": {},
     "output_type": "display_data"
    }
   ],
   "source": [
    "#Импорт файла с сайта\n",
    "import pandas as pd\n",
    "import urllib.request\n",
    "url = 'https://raw.githubusercontent.com/justmarkham/pandas-videos/master/data/ufo.csv'\n",
    "send_request = urllib.request.urlretrieve('https://raw.githubusercontent.com/justmarkham/pandas-videos/master/data/ufo.csv')\n",
    "ufo_df = pd.read_csv('C:\\\\Users\\\\katah\\\\AppData\\\\Local\\\\Temp\\\\tmpfowda4yq', sep=',')\n",
    "display(ufo_df.tail())"
   ]
  },
  {
   "cell_type": "code",
   "execution_count": 7,
   "metadata": {},
   "outputs": [
    {
     "data": {
      "text/plain": [
       "1999    2774\n",
       "2000    2635\n",
       "1998    1743\n",
       "1995    1344\n",
       "1997    1237\n",
       "        ... \n",
       "1936       2\n",
       "1930       2\n",
       "1935       1\n",
       "1934       1\n",
       "1933       1\n",
       "Name: Top_year, Length: 68, dtype: int64"
      ]
     },
     "metadata": {},
     "output_type": "display_data"
    }
   ],
   "source": [
    "#Тут выводим год, с самым частым искомым наблюдением\n",
    "import pandas as pd\n",
    "ufo_df = pd.read_csv('C:\\\\Users\\\\katah\\\\AppData\\\\Local\\\\Temp\\\\tmpfowda4yq', sep=',')\n",
    "ufo_df['Time'] = pd.to_datetime(ufo_df['Time'], dayfirst=True) #Приводим столбец \"Time\" к одному формату\n",
    "ufo_df['Top_year'] = ufo_df['Time'].dt.year # \"Фильтруем\" стобец с датами, запрашивая только год\n",
    "a = ufo_df['Top_year'].value_counts() #Так мы находим топ по количеству случаев. С .value_counts(normalize=True) - долевое соотношение\n",
    "display(a)"
   ]
  },
  {
   "cell_type": "code",
   "execution_count": 43,
   "metadata": {},
   "outputs": [
    {
     "name": "stdout",
     "output_type": "stream",
     "text": [
      "68.72084805653711\n"
     ]
    }
   ],
   "source": [
    "\n",
    "import pandas as pd\n",
    "ufo_df = pd.read_csv('C:\\\\Users\\\\katah\\\\AppData\\\\Local\\\\Temp\\\\tmpfowda4yq', sep=',')\n",
    "ufo_df['Time'] = pd.to_datetime(ufo_df['Time'], dayfirst=True) #Приводим столбец \"Time\" к одному формату\n",
    "ufo_df['Date'] = ufo_df['Time'].dt.date # \"Фильтруем\" стобец с датами, запрашивая дату\n",
    "#ufo_df[ufo_df['State']=='NV'] в этой части мы обозначаем колонку(штат) и значение(имя штата) ==критерий\n",
    "# Добавляя['Date'] мы опять указываем искомые значения, но уже относительно критерию, указанного выше\n",
    "# .diff().dt.days.mean() == .diff(вичитает нижнее значение из верхнего).dt.days(указывает нужный формат - дни).mean(среднее значение итогов)\n",
    "print(ufo_df[ufo_df['State']=='NV']['Date'].diff().dt.days.mean())\n",
    "\n"
   ]
  },
  {
   "cell_type": "code",
   "execution_count": null,
   "metadata": {},
   "outputs": [],
   "source": []
  }
 ],
 "metadata": {
  "kernelspec": {
   "display_name": "Python 3",
   "language": "python",
   "name": "python3"
  },
  "language_info": {
   "codemirror_mode": {
    "name": "ipython",
    "version": 3
   },
   "file_extension": ".py",
   "mimetype": "text/x-python",
   "name": "python",
   "nbconvert_exporter": "python",
   "pygments_lexer": "ipython3",
   "version": "3.9.10"
  },
  "orig_nbformat": 4
 },
 "nbformat": 4,
 "nbformat_minor": 2
}
