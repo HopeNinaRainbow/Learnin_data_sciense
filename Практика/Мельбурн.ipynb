{
 "cells": [
  {
   "cell_type": "code",
   "execution_count": 92,
   "metadata": {},
   "outputs": [
    {
     "data": {
      "text/html": [
       "<div>\n",
       "<style scoped>\n",
       "    .dataframe tbody tr th:only-of-type {\n",
       "        vertical-align: middle;\n",
       "    }\n",
       "\n",
       "    .dataframe tbody tr th {\n",
       "        vertical-align: top;\n",
       "    }\n",
       "\n",
       "    .dataframe thead th {\n",
       "        text-align: right;\n",
       "    }\n",
       "</style>\n",
       "<table border=\"1\" class=\"dataframe\">\n",
       "  <thead>\n",
       "    <tr style=\"text-align: right;\">\n",
       "      <th></th>\n",
       "      <th>Suburb</th>\n",
       "      <th>Address</th>\n",
       "      <th>Type</th>\n",
       "      <th>Method</th>\n",
       "      <th>SellerG</th>\n",
       "      <th>Date</th>\n",
       "      <th>CouncilArea</th>\n",
       "      <th>Regionname</th>\n",
       "      <th>Coordinates</th>\n",
       "    </tr>\n",
       "  </thead>\n",
       "  <tbody>\n",
       "    <tr>\n",
       "      <th>count</th>\n",
       "      <td>9220</td>\n",
       "      <td>9220</td>\n",
       "      <td>9220</td>\n",
       "      <td>9220</td>\n",
       "      <td>9220</td>\n",
       "      <td>9220</td>\n",
       "      <td>7999</td>\n",
       "      <td>9220</td>\n",
       "      <td>9220</td>\n",
       "    </tr>\n",
       "    <tr>\n",
       "      <th>unique</th>\n",
       "      <td>313</td>\n",
       "      <td>9075</td>\n",
       "      <td>1</td>\n",
       "      <td>5</td>\n",
       "      <td>232</td>\n",
       "      <td>58</td>\n",
       "      <td>33</td>\n",
       "      <td>8</td>\n",
       "      <td>9160</td>\n",
       "    </tr>\n",
       "    <tr>\n",
       "      <th>top</th>\n",
       "      <td>Reservoir</td>\n",
       "      <td>2 Bruce St</td>\n",
       "      <td>h</td>\n",
       "      <td>S</td>\n",
       "      <td>Nelson</td>\n",
       "      <td>27/05/2017</td>\n",
       "      <td>Moreland</td>\n",
       "      <td>Northern Metropolitan</td>\n",
       "      <td>-37.74635, 144.9229</td>\n",
       "    </tr>\n",
       "    <tr>\n",
       "      <th>freq</th>\n",
       "      <td>253</td>\n",
       "      <td>3</td>\n",
       "      <td>9220</td>\n",
       "      <td>6367</td>\n",
       "      <td>1154</td>\n",
       "      <td>334</td>\n",
       "      <td>842</td>\n",
       "      <td>2737</td>\n",
       "      <td>2</td>\n",
       "    </tr>\n",
       "  </tbody>\n",
       "</table>\n",
       "</div>"
      ],
      "text/plain": [
       "           Suburb     Address  Type Method SellerG        Date CouncilArea  \\\n",
       "count        9220        9220  9220   9220    9220        9220        7999   \n",
       "unique        313        9075     1      5     232          58          33   \n",
       "top     Reservoir  2 Bruce St     h      S  Nelson  27/05/2017    Moreland   \n",
       "freq          253           3  9220   6367    1154         334         842   \n",
       "\n",
       "                   Regionname          Coordinates  \n",
       "count                    9220                 9220  \n",
       "unique                      8                 9160  \n",
       "top     Northern Metropolitan  -37.74635, 144.9229  \n",
       "freq                     2737                    2  "
      ]
     },
     "metadata": {},
     "output_type": "display_data"
    }
   ],
   "source": [
    "import pandas as pd\n",
    "melb_data = pd.read_csv('data/melb_data.csv', sep=',')\n",
    "\n",
    "a=melb_data[(melb_data['Type'] == 'h') & (melb_data['Price'] < 3000000)] \n",
    "\n",
    "b=a.describe(include=['object'])\n",
    "\n",
    "display(b)\n"
   ]
  },
  {
   "cell_type": "code",
   "execution_count": 63,
   "metadata": {},
   "outputs": [
    {
     "ename": "NameError",
     "evalue": "name 'SellerG' is not defined",
     "output_type": "error",
     "traceback": [
      "\u001b[1;31m---------------------------------------------------------------------------\u001b[0m",
      "\u001b[1;31mNameError\u001b[0m                                 Traceback (most recent call last)",
      "Cell \u001b[1;32mIn[63], line 3\u001b[0m\n\u001b[0;32m      1\u001b[0m \u001b[39mimport\u001b[39;00m \u001b[39mpandas\u001b[39;00m \u001b[39mas\u001b[39;00m \u001b[39mpd\u001b[39;00m\n\u001b[0;32m      2\u001b[0m melb_data \u001b[39m=\u001b[39m pd\u001b[39m.\u001b[39mread_csv(\u001b[39m'\u001b[39m\u001b[39mdata/melb_data.csv\u001b[39m\u001b[39m'\u001b[39m, sep\u001b[39m=\u001b[39m\u001b[39m'\u001b[39m\u001b[39m,\u001b[39m\u001b[39m'\u001b[39m)\n\u001b[1;32m----> 3\u001b[0m rieltor\u001b[39m=\u001b[39mmelb_data[SellerG]\n\u001b[0;32m      4\u001b[0m count\u001b[39m=\u001b[39m\u001b[39m0\u001b[39m\n\u001b[0;32m      5\u001b[0m \u001b[39mfor\u001b[39;00m company \u001b[39min\u001b[39;00m rieltor:\n",
      "\u001b[1;31mNameError\u001b[0m: name 'SellerG' is not defined"
     ]
    }
   ],
   "source": []
  }
 ],
 "metadata": {
  "kernelspec": {
   "display_name": "Python 3",
   "language": "python",
   "name": "python3"
  },
  "language_info": {
   "codemirror_mode": {
    "name": "ipython",
    "version": 3
   },
   "file_extension": ".py",
   "mimetype": "text/x-python",
   "name": "python",
   "nbconvert_exporter": "python",
   "pygments_lexer": "ipython3",
   "version": "3.9.10"
  },
  "orig_nbformat": 4,
  "vscode": {
   "interpreter": {
    "hash": "9a96fe5942e977a2be4cfcd3c9d3218b11fcfcbfea1cd79c93c14a448c083c08"
   }
  }
 },
 "nbformat": 4,
 "nbformat_minor": 2
}
