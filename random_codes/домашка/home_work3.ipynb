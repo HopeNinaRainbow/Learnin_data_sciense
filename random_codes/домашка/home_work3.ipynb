{
 "cells": [
  {
   "attachments": {},
   "cell_type": "markdown",
   "metadata": {},
   "source": [
    "# Домашняя работа 3. #"
   ]
  },
  {
   "attachments": {},
   "cell_type": "markdown",
   "metadata": {},
   "source": [
    "### Задача №1: ###"
   ]
  },
  {
   "cell_type": "code",
   "execution_count": 89,
   "metadata": {},
   "outputs": [
    {
     "name": "stdout",
     "output_type": "stream",
     "text": [
      "{'Agree': 'agre', 'Neither agree nor disagree': 'neit_agre_nor_disa', 'Dont know': 'dont_know', 'Disagree': 'disa', 'No answer': 'no_answ', 'Agree strongly': 'agre_stro', 'Refusal': 'refu', 'Disagree strongly': 'disa_stro'}\n"
     ]
    }
   ],
   "source": [
    "enter = input('Enter your text: ')\n",
    "enter2 = enter.replace(\"'\", '').replace('\"','') #Избавляемся от апострофов\n",
    "enter3 = enter2.lower() #Приводим к нижнему регистру\n",
    "for_value = enter3.split(sep=',') #Разделяем строку по раделителю \",\"\n",
    "for_keys = enter2.split(sep=',') #Делаем то же самое, только со строкой не приведенной к нижнему регистру\n",
    "\n",
    "list_of_value = []\n",
    "for object in for_value:          #Создаю цикл для \"очистки значений\" от первого пробела, и замены других побелов на \"_\"\n",
    "    clean_object = object.strip().replace(' ', '_')\n",
    "    list_of_value.append(clean_object)\n",
    "    \n",
    "\n",
    "result = []\n",
    "for word in list_of_value:\n",
    "  subwords = word.split('_') #Разделяю элементы, раделенные \"_\", на отдельные значения\n",
    "  subres = []\n",
    "  for subword in subwords: \n",
    "    subres.append(subword[0:4]) #В этих значениях ограничиваю длину до 4-х символов\n",
    "  word = '_'.join(subres) \n",
    "  result.append(word)\n",
    "\n",
    "    \n",
    "list_of_keys = []\n",
    "for key in for_keys: #Создаю отдельный цикл, для будущих ключей, убирая первый пробел\n",
    "    clean_key = key.strip()\n",
    "    list_of_keys.append(clean_key)\n",
    "\n",
    "experimental_dict = dict(zip(list_of_keys, result)) \n",
    "#Так как ключами могут быть только уникальные значения, имеющиеся ранее повторения нам не сташны.\n",
    "print(experimental_dict)\n",
    "\n",
    "\n",
    "    "
   ]
  },
  {
   "attachments": {},
   "cell_type": "markdown",
   "metadata": {},
   "source": [
    "### Задача №2: ###"
   ]
  },
  {
   "cell_type": "code",
   "execution_count": null,
   "metadata": {},
   "outputs": [],
   "source": []
  }
 ],
 "metadata": {
  "kernelspec": {
   "display_name": "Python 3",
   "language": "python",
   "name": "python3"
  },
  "language_info": {
   "codemirror_mode": {
    "name": "ipython",
    "version": 3
   },
   "file_extension": ".py",
   "mimetype": "text/x-python",
   "name": "python",
   "nbconvert_exporter": "python",
   "pygments_lexer": "ipython3",
   "version": "3.9.10"
  },
  "orig_nbformat": 4
 },
 "nbformat": 4,
 "nbformat_minor": 2
}
